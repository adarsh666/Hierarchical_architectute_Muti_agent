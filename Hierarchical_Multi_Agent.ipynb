{
 "cells": [
  {
   "cell_type": "code",
   "execution_count": 2,
   "id": "97e7538d",
   "metadata": {},
   "outputs": [
    {
     "data": {
      "text/plain": [
       "True"
      ]
     },
     "execution_count": 2,
     "metadata": {},
     "output_type": "execute_result"
    }
   ],
   "source": [
    "from dotenv import load_dotenv\n",
    "load_dotenv()"
   ]
  },
  {
   "cell_type": "code",
   "execution_count": 4,
   "id": "93f0c025",
   "metadata": {},
   "outputs": [],
   "source": [
    "from langchain.tools import tool"
   ]
  },
  {
   "cell_type": "code",
   "execution_count": 6,
   "id": "2d4bac07",
   "metadata": {},
   "outputs": [
    {
     "name": "stderr",
     "output_type": "stream",
     "text": [
      "/tmp/ipykernel_80908/2134736707.py:2: LangChainDeprecationWarning: The class `TavilySearchResults` was deprecated in LangChain 0.3.25 and will be removed in 1.0. An updated version of the class exists in the :class:`~langchain-tavily package and should be used instead. To use it run `pip install -U :class:`~langchain-tavily` and import as `from :class:`~langchain_tavily import TavilySearch``.\n",
      "  search=TavilySearchResults()\n"
     ]
    }
   ],
   "source": [
    "from langchain_community.tools.tavily_search import TavilySearchResults\n",
    "search=TavilySearchResults()"
   ]
  },
  {
   "cell_type": "code",
   "execution_count": 7,
   "id": "bf25b14e",
   "metadata": {},
   "outputs": [],
   "source": [
    "tools=[search]"
   ]
  },
  {
   "cell_type": "code",
   "execution_count": 9,
   "id": "ea1a212a",
   "metadata": {},
   "outputs": [],
   "source": [
    "from langchain_groq import ChatGroq\n",
    "llm = ChatGroq(\n",
    "    model_name=\"meta-llama/llama-4-maverick-17b-128e-instruct\",\n",
    "    temperature=0\n",
    ")"
   ]
  },
  {
   "cell_type": "code",
   "execution_count": 10,
   "id": "bbecb385",
   "metadata": {},
   "outputs": [],
   "source": [
    "llm_with_tools=llm.bind_tools(tools)"
   ]
  },
  {
   "cell_type": "code",
   "execution_count": 11,
   "id": "971b9192",
   "metadata": {},
   "outputs": [],
   "source": [
    "medical_prompt = \"\"\"\n",
    "You are an expert medical and pharmaceutical assistant. Please provide clear, evidence-based, and up-to-date information in response to the following query. Your answer should be accurate, concise, and appropriate for a healthcare professional audience. Where relevant, include:\n",
    "\n",
    "Mechanisms of action\n",
    "\n",
    "Clinical indications and contraindications\n",
    "\n",
    "Dosage and administration guidelines\n",
    "\n",
    "Potential side effects and drug interactions\n",
    "\n",
    "Relevant clinical guidelines or references\n",
    "\n",
    "Patient counseling points\n",
    "\n",
    "DO NOT write summary. DO NOT generate report.\n",
    "\"\"\""
   ]
  },
  {
   "cell_type": "code",
   "execution_count": 12,
   "id": "b652f2f7",
   "metadata": {},
   "outputs": [],
   "source": [
    "finance_prompt = \"\"\"\n",
    "You are a highly skilled financial research assistant. Your task is to deliver precise, data-driven, and up-to-date financial analysis in response to user queries. Your responses should be tailored for finance professionals and include, where relevant:\n",
    "\n",
    "Market trends and economic indicators\n",
    "\n",
    "Company financials and valuation metrics\n",
    "\n",
    "Sector and industry analysis\n",
    "\n",
    "Risk assessment and investment considerations\n",
    "\n",
    "References to credible financial data sources\n",
    "\n",
    "Explanations of financial concepts or methodologies\n",
    "\n",
    "DO NOT write summary. DO NOT generate report.\n",
    "\"\"\""
   ]
  },
  {
   "cell_type": "code",
   "execution_count": 14,
   "id": "83fa6641",
   "metadata": {},
   "outputs": [],
   "source": [
    "from langchain_core.messages import HumanMessage, SystemMessage\n",
    "from langgraph.graph import MessagesState,StateGraph, END, START"
   ]
  },
  {
   "cell_type": "code",
   "execution_count": 15,
   "id": "68a568ce",
   "metadata": {},
   "outputs": [],
   "source": [
    "from typing import List\n",
    "from langchain_core.tools import tool\n",
    "import statistics\n",
    "from langgraph.graph import StateGraph, START, END\n",
    "from langgraph.types import Command\n",
    "from langchain_core.messages import HumanMessage\n",
    "from langgraph.graph import MessagesState\n",
    "from langgraph.managed.is_last_step import RemainingSteps\n",
    "from typing import TypedDict, Literal"
   ]
  },
  {
   "cell_type": "code",
   "execution_count": 16,
   "id": "1ed2c2d6",
   "metadata": {},
   "outputs": [],
   "source": [
    "\n",
    "class State(MessagesState):\n",
    "    next: str  # Field to store the next agent to call\n",
    "    remaining_steps: RemainingSteps\n",
    "    "
   ]
  },
  {
   "cell_type": "code",
   "execution_count": 17,
   "id": "dd9abc91",
   "metadata": {},
   "outputs": [],
   "source": [
    "from langgraph.prebuilt import create_react_agent\n",
    "\n",
    "# Medical Pharma Agent\n",
    "def medical_agent_node(state: State) -> Command[Literal[\"supervisor\"]]:\n",
    "    medical_agent = create_react_agent(\n",
    "        llm,\n",
    "        tools=[search],\n",
    "        prompt=medical_prompt\n",
    "    )\n",
    "    result = medical_agent.invoke(state)\n",
    "    return Command(\n",
    "        update={\n",
    "            \"messages\": [\n",
    "                HumanMessage(content=result[\"messages\"][-1].content, name=\"medical_expert\")\n",
    "            ]\n",
    "        },\n",
    "        goto=\"supervisor\"\n",
    "    )"
   ]
  },
  {
   "cell_type": "code",
   "execution_count": 18,
   "id": "d765f17d",
   "metadata": {},
   "outputs": [],
   "source": [
    "# Finance Expert Agent\n",
    "def finance_agent_node(state: State) -> Command[Literal[\"supervisor\"]]:\n",
    "    finance_agent = create_react_agent(\n",
    "        llm,\n",
    "        tools=[search],\n",
    "        prompt=finance_prompt\n",
    "    )\n",
    "    result = finance_agent.invoke(state)\n",
    "    return Command(\n",
    "        update={\n",
    "            \"messages\": [\n",
    "                HumanMessage(content=result[\"messages\"][-1].content, name=\"finance_expert\")\n",
    "            ]\n",
    "        },\n",
    "        goto=\"supervisor\"\n",
    "    )"
   ]
  },
  {
   "cell_type": "code",
   "execution_count": 19,
   "id": "e69b593f",
   "metadata": {},
   "outputs": [],
   "source": [
    "def summarizer_agent_node(state: State) -> Command[Literal[\"supervisor\"]]:\n",
    "    summarizer_agent = create_react_agent(\n",
    "        llm,\n",
    "        prompt=\"You are a content summarizer. Create bullet points from long texts.DO NOT do any finacial analysis.DO NOT do any medical analysis.\"\n",
    "    )\n",
    "    result = summarizer_agent.invoke(state)\n",
    "    return Command(\n",
    "        update={\n",
    "            \"messages\": [\n",
    "                HumanMessage(content=result[\"messages\"][-1].content, name=\"summarizer\")\n",
    "            ]\n",
    "        },\n",
    "        goto=\"supervisor\"\n",
    "    )"
   ]
  },
  {
   "cell_type": "code",
   "execution_count": 20,
   "id": "23cfbfe9",
   "metadata": {},
   "outputs": [],
   "source": [
    "from typing import Literal\n",
    "\n",
    "def report_writer_agent_node(state: State) -> Command[Literal[\"supervisor\"]]:\n",
    "    report_writer_agent = create_react_agent(\n",
    "        llm,\n",
    "        prompt=\"You are a report writer. Create a formal report based on the given points. DO NOT do any medical research. DO NOT do any finacial analysis.\"\n",
    "    )\n",
    "    result = report_writer_agent.invoke(state)\n",
    "    report_content = result[\"messages\"][-1].content\n",
    "\n",
    "    # Write the report to a file\n",
    "    with open(\"market_research_report.txt\", \"w\", encoding=\"utf-8\") as file:\n",
    "        file.write(report_content)\n",
    "\n",
    "    return Command(\n",
    "        update={\n",
    "            \"messages\": [\n",
    "                HumanMessage(content=report_content, name=\"report_writer\")\n",
    "            ]\n",
    "        },\n",
    "        goto=\"supervisor\"\n",
    "    )\n"
   ]
  },
  {
   "cell_type": "code",
   "execution_count": 21,
   "id": "cbde8e96",
   "metadata": {},
   "outputs": [],
   "source": [
    "\n",
    "\n",
    "def make_supervisor_node(llm, members: list[str]) -> str:\n",
    "    options = [\"FINISH\"] + members\n",
    "    system_prompt = (\n",
    "            \"You are a Supervisor responsible for coordinating the following specialized workers: {members}.\\n\"\n",
    "            \"Based on the user's request and the current conversation history, select the most appropriate worker to handle the next step.\\n\"\n",
    "            \"Each worker will perform their assigned task and report back with results and status updates.\\n\"\n",
    "            \"After all necessary tasks have been completed, respond with 'FINISH' to indicate that the workflow is complete.\\n\"\n",
    "            \"Always choose only one worker at a time, based on the current context and task requirements.\"\n",
    "        )\n",
    "\n",
    "\n",
    "    class Router(TypedDict):\n",
    "        \"\"\"Worker to route to next. If no workers needed, route to FINISH.\"\"\"\n",
    "        next: Literal[*options]\n",
    "\n",
    "    def supervisor_node(state: State) -> Command[Literal[*members, \"__end__\"]]:\n",
    "        \"\"\"\n",
    "        Supervisor that respects phases: data_analysis first, content_writing later.\n",
    "        \"\"\"\n",
    "        if state[\"remaining_steps\"] <= 2:\n",
    "            return Command(goto=END)\n",
    "        \n",
    "        messages = [{\"role\": \"system\", \"content\": system_prompt}] + state[\"messages\"]\n",
    "\n",
    "        response = llm.with_structured_output(Router).invoke(messages)\n",
    "        goto = response[\"next\"]\n",
    "        if goto == \"FINISH\":\n",
    "            goto = END\n",
    "\n",
    "        return Command(goto=goto, update={\"next\": goto})\n",
    "\n",
    "    return supervisor_node"
   ]
  },
  {
   "cell_type": "code",
   "execution_count": 22,
   "id": "d547a41a",
   "metadata": {},
   "outputs": [],
   "source": [
    "# Research team members\n",
    "research_team_members = [\"medical_expert\", \"finance_expert\"]\n",
    "\n",
    "# Create Supervisor for Research Team\n",
    "research_supervisor_node = make_supervisor_node(llm, research_team_members)\n"
   ]
  },
  {
   "cell_type": "code",
   "execution_count": null,
   "id": "3a477a82",
   "metadata": {},
   "outputs": [],
   "source": []
  },
  {
   "cell_type": "code",
   "execution_count": 23,
   "id": "8d133ed3",
   "metadata": {},
   "outputs": [],
   "source": [
    "\n",
    "# 1. Create a StateGraph for the Research Team\n",
    "research_graph = StateGraph(State)\n",
    "\n",
    "# 2. Add nodes (Supervisor + Agents)\n",
    "research_graph.add_node(\"medical_expert\",medical_agent_node )\n",
    "\n",
    "research_graph.add_node(\"finance_expert\",finance_agent_node)\n",
    "\n",
    "research_graph.add_node(\"supervisor\", research_supervisor_node)\n",
    "\n",
    "# 3. Define the edges (how things flow)\n",
    "research_graph.add_edge(START, \"supervisor\")\n",
    "\n",
    "# 4. Compile the graph\n",
    "compiled_research_graph = research_graph.compile()\n"
   ]
  },
  {
   "cell_type": "code",
   "execution_count": 24,
   "id": "5f1baadb",
   "metadata": {},
   "outputs": [
    {
     "data": {
      "image/png": "[encoded data removed]",
      "text/plain": [
       "<IPython.core.display.Image object>"
      ]
     },
     "metadata": {},
     "output_type": "display_data"
    }
   ],
   "source": [
    "from IPython.display import Image, display\n",
    "display(Image(compiled_research_graph.get_graph().draw_mermaid_png()))"
   ]
  },
  {
   "cell_type": "code",
   "execution_count": 25,
   "id": "b46a677a",
   "metadata": {},
   "outputs": [],
   "source": [
    "# Content Writing team members\n",
    "content_team_members = [\"summarizer\", \"report_writer\"]\n",
    "\n",
    "# Create Supervisor for Content Writing Team\n",
    "content_writing_supervisor_node = make_supervisor_node(llm, content_team_members)"
   ]
  },
  {
   "cell_type": "code",
   "execution_count": 26,
   "id": "35eae808",
   "metadata": {},
   "outputs": [],
   "source": [
    "# 1. Create a StateGraph for the Content Writing Team\n",
    "content_writing_graph = StateGraph(State)\n",
    "\n",
    "# 2. Add nodes (Supervisor + Agents)\n",
    "content_writing_graph.add_node(\"summarizer\",summarizer_agent_node)\n",
    "\n",
    "content_writing_graph.add_node(\"report_writer\",report_writer_agent_node)\n",
    "\n",
    "content_writing_graph.add_node(\"supervisor\", content_writing_supervisor_node)\n",
    "\n",
    "# 3. Define edges\n",
    "content_writing_graph.add_edge(START, \"supervisor\")\n",
    "\n",
    "# 4. Compile the graph\n",
    "compiled_content_writing_graph = content_writing_graph.compile()"
   ]
  },
  {
   "cell_type": "code",
   "execution_count": 27,
   "id": "6def9708",
   "metadata": {},
   "outputs": [
    {
     "data": {
      "image/png": "[encoded data removed]",
      "text/plain": [
       "<IPython.core.display.Image object>"
      ]
     },
     "metadata": {},
     "output_type": "display_data"
    }
   ],
   "source": [
    "from IPython.display import Image, display\n",
    "display(Image(compiled_content_writing_graph.get_graph().draw_mermaid_png()))"
   ]
  },
  {
   "cell_type": "code",
   "execution_count": 28,
   "id": "a5f6bc4f",
   "metadata": {},
   "outputs": [],
   "source": [
    "# Top-Level Supervisor Members\n",
    "top_team_members = [\"research_team\", \"content_writing_team\"]\n",
    "top_team_options = top_team_members + [\"FINISH\"]\n",
    "class Router(TypedDict):\n",
    "     \"\"\"Worker to route to next. If no workers needed, route to FINISH.\"\"\"\n",
    "     next: Literal[\"research_team\", \"content_writing_team\", \"FINISH\"]\n",
    "# Create Top Supervisor Node\n",
    "class State(MessagesState):\n",
    "    next: str\n",
    "    remaining_steps: RemainingSteps\n",
    "    data_analysis_completed: bool = False\n",
    "\n",
    "def top_supervisor_node(state: State) -> Command[Literal[\"research_team\", \"content_writing_team\", \"__end__\"]]:\n",
    "    if state[\"remaining_steps\"] <= 2:\n",
    "        return Command(goto=END)\n",
    "    if state.get(\"research_completed\", False):\n",
    "            allowed_workers = [\"content_writing_team\"]\n",
    "    else:\n",
    "        allowed_workers = [\"research_team\"]\n",
    "\n",
    "    system_prompt = (\n",
    "            f\"You are a Supervisor coordinating teams: {top_team_members}.\\n\"\n",
    "            f\"Allowed team(s) you can call now: {allowed_workers}\\n\"\n",
    "            \"First, call 'call_research_team'. Only after it completes, call 'call_content_writing_team'.\\n\"\n",
    "            \"After both teams have completed, respond with 'FINISH'.\"\n",
    "        )\n",
    "    messages = [{\"role\": \"system\", \"content\": system_prompt}] + state[\"messages\"]\n",
    "    response = llm.with_structured_output(Router).invoke(messages)\n",
    "    goto = response[\"next\"]\n",
    "    if goto not in allowed_workers:\n",
    "        # If LLM made an illegal choice, overwrite manually\n",
    "        goto = allowed_workers[0]\n",
    "\n",
    "    if goto == \"FINISH\":\n",
    "        goto = END\n",
    "\n",
    "    return Command(goto=goto, update={\"next\": goto})"
   ]
  },
  {
   "cell_type": "code",
   "execution_count": 29,
   "id": "72de6851",
   "metadata": {},
   "outputs": [],
   "source": [
    "def call_research_team(state: State) -> Command[Literal[\"supervisor\"]]:\n",
    "    response = compiled_research_graph.invoke({\"messages\": state[\"messages\"][-1]})\n",
    "    return Command(\n",
    "        update={\"messages\": [HumanMessage(content=response[\"messages\"][-1].content, name=\"research_team\")],\"research_completed\": True},\n",
    "        goto=\"supervisor\"\n",
    "    )\n"
   ]
  },
  {
   "cell_type": "code",
   "execution_count": 30,
   "id": "035a9a38",
   "metadata": {},
   "outputs": [],
   "source": [
    "def call_content_writing_team(state: State) -> Command[Literal[\"supervisor\"]]:\n",
    "    response = compiled_content_writing_graph.invoke({\"messages\": state[\"messages\"][-1]})\n",
    "    return Command(\n",
    "        update={\"messages\": [HumanMessage(content=response[\"messages\"][-1].content, name=\"content_writing_team\")]},\n",
    "        goto=\"supervisor\"\n",
    "    )\n"
   ]
  },
  {
   "cell_type": "code",
   "execution_count": 31,
   "id": "b972e3ef",
   "metadata": {},
   "outputs": [],
   "source": [
    "# 1. Create a new StateGraph for the full system\n",
    "final_graph = StateGraph(State)\n",
    "\n",
    "# 2. Add Top Supervisor and Subteams as nodes\n",
    "final_graph.add_node(\"supervisor\", top_supervisor_node)\n",
    "final_graph.add_node(\"research_team\", call_research_team)\n",
    "final_graph.add_node(\"content_writing_team\", call_content_writing_team)\n",
    "\n",
    "# 3. Define edges\n",
    "final_graph.add_edge(START, \"supervisor\")\n",
    "\n",
    "# 4. Compile the final graph\n",
    "compiled_final_graph = final_graph.compile()\n"
   ]
  },
  {
   "cell_type": "code",
   "execution_count": 32,
   "id": "73168a62",
   "metadata": {},
   "outputs": [
    {
     "data": {
      "image/png": "[encoded data removed]",
      "text/plain": [
       "<IPython.core.display.Image object>"
      ]
     },
     "metadata": {},
     "output_type": "display_data"
    }
   ],
   "source": [
    "from IPython.display import Image, display\n",
    "\n",
    "display(Image(compiled_final_graph.get_graph().draw_mermaid_png()))"
   ]
  },
  {
   "cell_type": "code",
   "execution_count": null,
   "id": "d4e84c0e",
   "metadata": {},
   "outputs": [
    {
     "name": "stdout",
     "output_type": "stream",
     "text": [
      "{'supervisor': {'next': 'research_team'}}\n",
      "---\n"
     ]
    }
   ],
   "source": [
    "# Run the compiled final graph\n",
    "for step in compiled_final_graph.stream(\n",
    "    {\"messages\": [(\"user\", \"sales data: What all things needed to starting a medicine maufacturing company.Then, check its financial feasibility.After that, summarize the findings in bullet points and create a detailed market research report.\"\n",
    "\n",
    ")]},\n",
    "    {\"recursion_limit\": 15}  # Avoid infinite loops\n",
    "):\n",
    "    print(step)\n",
    "    print(\"---\")\n"
   ]
  },
  {
   "cell_type": "code",
   "execution_count": null,
   "id": "61233126",
   "metadata": {},
   "outputs": [],
   "source": []
  }
 ],
 "metadata": {
  "kernelspec": {
   "display_name": ".conda",
   "language": "python",
   "name": "python3"
  },
  "language_info": {
   "codemirror_mode": {
    "name": "ipython",
    "version": 3
   },
   "file_extension": ".py",
   "mimetype": "text/x-python",
   "name": "python",
   "nbconvert_exporter": "python",
   "pygments_lexer": "ipython3",
   "version": "3.11.13"
  }
 },
 "nbformat": 4,
 "nbformat_minor": 5
}
